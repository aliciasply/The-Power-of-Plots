{
 "cells": [
  {
   "cell_type": "markdown",
   "metadata": {},
   "source": [
    "## Observations and Insights "
   ]
  },
  {
   "cell_type": "markdown",
   "metadata": {},
   "source": []
  },
  {
   "cell_type": "code",
   "execution_count": 8,
   "metadata": {},
   "outputs": [],
   "source": [
    "# Dependencies and Setup\n",
    "import matplotlib.pyplot as plt\n",
    "import pandas as pd\n",
    "import scipy.stats as st\n",
    "import numpy as np\n",
    "from sklearn import datasets\n",
    "from scipy.stats import linregress\n",
    "\n",
    "# Study data files\n",
    "mouse_metadata_path = \"data/Mouse_metadata.csv\"\n",
    "study_results_path = \"data/Study_results.csv\"\n",
    "\n",
    "# Read the mouse data and the study results\n",
    "mouse_metadata = pd.read_csv(mouse_metadata_path)\n",
    "study_results = pd.read_csv(study_results_path)\n",
    "\n",
    "# mouse_metadata\n",
    "\n"
   ]
  },
  {
   "cell_type": "code",
   "execution_count": 9,
   "metadata": {},
   "outputs": [],
   "source": [
    "# study_results"
   ]
  },
  {
   "cell_type": "code",
   "execution_count": null,
   "metadata": {},
   "outputs": [],
   "source": []
  },
  {
   "cell_type": "code",
   "execution_count": 13,
   "metadata": {},
   "outputs": [
    {
     "ename": "NameError",
     "evalue": "name 'combine_data_df' is not defined",
     "output_type": "error",
     "traceback": [
      "\u001b[0;31m---------------------------------------------------------------------------\u001b[0m",
      "\u001b[0;31mNameError\u001b[0m                                 Traceback (most recent call last)",
      "\u001b[0;32m<ipython-input-13-e498f6fb598e>\u001b[0m in \u001b[0;36m<module>\u001b[0;34m\u001b[0m\n\u001b[1;32m      5\u001b[0m \u001b[0;34m\u001b[0m\u001b[0m\n\u001b[1;32m      6\u001b[0m \u001b[0;31m#.nunique will not include the duplicate\u001b[0m\u001b[0;34m\u001b[0m\u001b[0;34m\u001b[0m\u001b[0;34m\u001b[0m\u001b[0m\n\u001b[0;32m----> 7\u001b[0;31m \u001b[0mmice_number\u001b[0m \u001b[0;34m=\u001b[0m \u001b[0mcombine_data_df\u001b[0m\u001b[0;34m.\u001b[0m\u001b[0mnunique\u001b[0m\u001b[0;34m(\u001b[0m\u001b[0;34m)\u001b[0m\u001b[0;34m[\u001b[0m\u001b[0;34m\"Mouse ID\"\u001b[0m\u001b[0;34m]\u001b[0m\u001b[0;34m\u001b[0m\u001b[0;34m\u001b[0m\u001b[0m\n\u001b[0m\u001b[1;32m      8\u001b[0m \u001b[0mmice_number\u001b[0m\u001b[0;34m\u001b[0m\u001b[0;34m\u001b[0m\u001b[0m\n\u001b[1;32m      9\u001b[0m \u001b[0;34m\u001b[0m\u001b[0m\n",
      "\u001b[0;31mNameError\u001b[0m: name 'combine_data_df' is not defined"
     ]
    }
   ],
   "source": [
    "# Checking the number of mice.\n",
    "#the .count method will include the duplicate\n",
    "# mice_number = combine_data_df.count()[\"Mouse ID\"]\n",
    "# mice_number\n",
    "\n",
    "#.nunique will not include the duplicate\n",
    "mice_number = combine_data_df.nunique()[\"Mouse ID\"]\n",
    "mice_number\n",
    "                            "
   ]
  },
  {
   "cell_type": "code",
   "execution_count": 11,
   "metadata": {},
   "outputs": [
    {
     "ename": "NameError",
     "evalue": "name 'combine_data_df' is not defined",
     "output_type": "error",
     "traceback": [
      "\u001b[0;31m---------------------------------------------------------------------------\u001b[0m",
      "\u001b[0;31mNameError\u001b[0m                                 Traceback (most recent call last)",
      "\u001b[0;32m<ipython-input-11-dc420392af45>\u001b[0m in \u001b[0;36m<module>\u001b[0;34m\u001b[0m\n\u001b[1;32m      2\u001b[0m \u001b[0;31m# instead of showing True/False, we use .loc function to show the actual mosue ID\u001b[0m\u001b[0;34m\u001b[0m\u001b[0;34m\u001b[0m\u001b[0;34m\u001b[0m\u001b[0m\n\u001b[1;32m      3\u001b[0m \u001b[0;31m# adding subset so it doesnt check all the duplicate of all values, so now we only checking mosue ID and timepoint\u001b[0m\u001b[0;34m\u001b[0m\u001b[0;34m\u001b[0m\u001b[0;34m\u001b[0m\u001b[0m\n\u001b[0;32m----> 4\u001b[0;31m \u001b[0mduplicate_mice\u001b[0m \u001b[0;34m=\u001b[0m \u001b[0mcombine_data_df\u001b[0m\u001b[0;34m.\u001b[0m\u001b[0mloc\u001b[0m\u001b[0;34m[\u001b[0m\u001b[0mcombine_data_df\u001b[0m\u001b[0;34m.\u001b[0m\u001b[0mduplicated\u001b[0m\u001b[0;34m(\u001b[0m\u001b[0msubset\u001b[0m \u001b[0;34m=\u001b[0m \u001b[0;34m[\u001b[0m\u001b[0;34m\"Mouse ID\"\u001b[0m\u001b[0;34m,\u001b[0m \u001b[0;34m\"Timepoint\"\u001b[0m\u001b[0;34m]\u001b[0m\u001b[0;34m)\u001b[0m\u001b[0;34m,\u001b[0m \u001b[0;34m\"Mouse ID\"\u001b[0m\u001b[0;34m]\u001b[0m\u001b[0;34m.\u001b[0m\u001b[0munique\u001b[0m\u001b[0;34m(\u001b[0m\u001b[0;34m)\u001b[0m\u001b[0;34m\u001b[0m\u001b[0;34m\u001b[0m\u001b[0m\n\u001b[0m\u001b[1;32m      5\u001b[0m \u001b[0mduplicate_mice\u001b[0m\u001b[0;34m\u001b[0m\u001b[0;34m\u001b[0m\u001b[0m\n\u001b[1;32m      6\u001b[0m \u001b[0;34m\u001b[0m\u001b[0m\n",
      "\u001b[0;31mNameError\u001b[0m: name 'combine_data_df' is not defined"
     ]
    }
   ],
   "source": [
    "# Getting the duplicate mice by ID number that shows up for Mouse ID and Timepoint. \n",
    "# instead of showing True/False, we use .loc function to show the actual mosue ID\n",
    "# adding subset so it doesnt check all the duplicate of all values, so now we only checking mosue ID and timepoint\n",
    "duplicate_mice = combine_data_df.loc[combine_data_df.duplicated(subset = [\"Mouse ID\", \"Timepoint\"]), \"Mouse ID\"].unique()\n",
    "duplicate_mice\n",
    "\n"
   ]
  },
  {
   "cell_type": "code",
   "execution_count": 12,
   "metadata": {},
   "outputs": [
    {
     "ename": "NameError",
     "evalue": "name 'combine_data_df' is not defined",
     "output_type": "error",
     "traceback": [
      "\u001b[0;31m---------------------------------------------------------------------------\u001b[0m",
      "\u001b[0;31mNameError\u001b[0m                                 Traceback (most recent call last)",
      "\u001b[0;32m<ipython-input-12-c45c98c82877>\u001b[0m in \u001b[0;36m<module>\u001b[0;34m\u001b[0m\n\u001b[1;32m      1\u001b[0m \u001b[0;31m# Optional: Get all the data for the duplicate mouse ID.\u001b[0m\u001b[0;34m\u001b[0m\u001b[0;34m\u001b[0m\u001b[0;34m\u001b[0m\u001b[0m\n\u001b[1;32m      2\u001b[0m \u001b[0;34m\u001b[0m\u001b[0m\n\u001b[0;32m----> 3\u001b[0;31m \u001b[0mduplicate_df\u001b[0m \u001b[0;34m=\u001b[0m \u001b[0mcombine_data_df\u001b[0m\u001b[0;34m.\u001b[0m\u001b[0mloc\u001b[0m\u001b[0;34m[\u001b[0m\u001b[0mcombine_data_df\u001b[0m\u001b[0;34m[\u001b[0m\u001b[0;34m'Mouse ID'\u001b[0m\u001b[0;34m]\u001b[0m\u001b[0;34m==\u001b[0m \u001b[0;34m'g989'\u001b[0m\u001b[0;34m]\u001b[0m\u001b[0;34m\u001b[0m\u001b[0;34m\u001b[0m\u001b[0m\n\u001b[0m\u001b[1;32m      4\u001b[0m \u001b[0mduplicate_df\u001b[0m\u001b[0;34m\u001b[0m\u001b[0;34m\u001b[0m\u001b[0m\n",
      "\u001b[0;31mNameError\u001b[0m: name 'combine_data_df' is not defined"
     ]
    }
   ],
   "source": [
    "# Optional: Get all the data for the duplicate mouse ID. \n",
    "\n",
    "duplicate_df = combine_data_df.loc[combine_data_df['Mouse ID']== 'g989']\n",
    "duplicate_df\n"
   ]
  },
  {
   "cell_type": "code",
   "execution_count": 5,
   "metadata": {},
   "outputs": [
    {
     "ename": "NameError",
     "evalue": "name 'combine_data_df' is not defined",
     "output_type": "error",
     "traceback": [
      "\u001b[0;31m---------------------------------------------------------------------------\u001b[0m",
      "\u001b[0;31mNameError\u001b[0m                                 Traceback (most recent call last)",
      "\u001b[0;32m<ipython-input-5-e74bada6d01a>\u001b[0m in \u001b[0;36m<module>\u001b[0;34m\u001b[0m\n\u001b[1;32m      1\u001b[0m \u001b[0;31m# Create a clean DataFrame by dropping the duplicate mouse by its ID.\u001b[0m\u001b[0;34m\u001b[0m\u001b[0;34m\u001b[0m\u001b[0;34m\u001b[0m\u001b[0m\n\u001b[1;32m      2\u001b[0m \u001b[0;34m\u001b[0m\u001b[0m\n\u001b[0;32m----> 3\u001b[0;31m \u001b[0mcleaned_df\u001b[0m \u001b[0;34m=\u001b[0m \u001b[0mcombine_data_df\u001b[0m\u001b[0;34m.\u001b[0m\u001b[0mloc\u001b[0m\u001b[0;34m[\u001b[0m\u001b[0mcombine_data_df\u001b[0m\u001b[0;34m[\u001b[0m\u001b[0;34m'Mouse ID'\u001b[0m\u001b[0;34m]\u001b[0m\u001b[0;34m!=\u001b[0m \u001b[0;34m'g989'\u001b[0m\u001b[0;34m]\u001b[0m\u001b[0;34m\u001b[0m\u001b[0;34m\u001b[0m\u001b[0m\n\u001b[0m\u001b[1;32m      4\u001b[0m \u001b[0mcleaned_df\u001b[0m\u001b[0;34m.\u001b[0m\u001b[0mhead\u001b[0m\u001b[0;34m(\u001b[0m\u001b[0;34m)\u001b[0m\u001b[0;34m\u001b[0m\u001b[0;34m\u001b[0m\u001b[0m\n",
      "\u001b[0;31mNameError\u001b[0m: name 'combine_data_df' is not defined"
     ]
    }
   ],
   "source": [
    "# Create a clean DataFrame by dropping the duplicate mouse by its ID.\n",
    "\n",
    "cleaned_df = combine_data_df.loc[combine_data_df['Mouse ID']!= 'g989']\n",
    "cleaned_df.head()\n"
   ]
  },
  {
   "cell_type": "code",
   "execution_count": 6,
   "metadata": {},
   "outputs": [
    {
     "ename": "NameError",
     "evalue": "name 'cleaned_df' is not defined",
     "output_type": "error",
     "traceback": [
      "\u001b[0;31m---------------------------------------------------------------------------\u001b[0m",
      "\u001b[0;31mNameError\u001b[0m                                 Traceback (most recent call last)",
      "\u001b[0;32m<ipython-input-6-6812ccc8b1fa>\u001b[0m in \u001b[0;36m<module>\u001b[0;34m\u001b[0m\n\u001b[1;32m      1\u001b[0m \u001b[0;31m# Checking the number of mice in the clean DataFrame.\u001b[0m\u001b[0;34m\u001b[0m\u001b[0;34m\u001b[0m\u001b[0;34m\u001b[0m\u001b[0m\n\u001b[0;32m----> 2\u001b[0;31m \u001b[0mclean_data_number\u001b[0m \u001b[0;34m=\u001b[0m \u001b[0mcleaned_df\u001b[0m\u001b[0;34m.\u001b[0m\u001b[0mnunique\u001b[0m\u001b[0;34m(\u001b[0m\u001b[0;34m)\u001b[0m\u001b[0;34m[\u001b[0m\u001b[0;34m\"Mouse ID\"\u001b[0m\u001b[0;34m]\u001b[0m\u001b[0;34m\u001b[0m\u001b[0;34m\u001b[0m\u001b[0m\n\u001b[0m\u001b[1;32m      3\u001b[0m \u001b[0mclean_data_number\u001b[0m\u001b[0;34m\u001b[0m\u001b[0;34m\u001b[0m\u001b[0m\n\u001b[1;32m      4\u001b[0m \u001b[0;34m\u001b[0m\u001b[0m\n\u001b[1;32m      5\u001b[0m \u001b[0;34m\u001b[0m\u001b[0m\n",
      "\u001b[0;31mNameError\u001b[0m: name 'cleaned_df' is not defined"
     ]
    }
   ],
   "source": [
    "# Checking the number of mice in the clean DataFrame.\n",
    "clean_data_number = cleaned_df.nunique()[\"Mouse ID\"]\n",
    "clean_data_number\n",
    "                   \n",
    "\n"
   ]
  },
  {
   "cell_type": "markdown",
   "metadata": {},
   "source": [
    "## Summary Statistics"
   ]
  },
  {
   "cell_type": "code",
   "execution_count": 7,
   "metadata": {},
   "outputs": [
    {
     "ename": "NameError",
     "evalue": "name 'cleaned_df' is not defined",
     "output_type": "error",
     "traceback": [
      "\u001b[0;31m---------------------------------------------------------------------------\u001b[0m",
      "\u001b[0;31mNameError\u001b[0m                                 Traceback (most recent call last)",
      "\u001b[0;32m<ipython-input-7-56df585bd86b>\u001b[0m in \u001b[0;36m<module>\u001b[0;34m\u001b[0m\n\u001b[1;32m      4\u001b[0m \u001b[0;34m\u001b[0m\u001b[0m\n\u001b[1;32m      5\u001b[0m \u001b[0;31m# mean of the tumor volume for each regimen\u001b[0m\u001b[0;34m\u001b[0m\u001b[0;34m\u001b[0m\u001b[0;34m\u001b[0m\u001b[0m\n\u001b[0;32m----> 6\u001b[0;31m \u001b[0mmean_groupby_tv\u001b[0m \u001b[0;34m=\u001b[0m \u001b[0mcleaned_df\u001b[0m\u001b[0;34m.\u001b[0m\u001b[0mgroupby\u001b[0m\u001b[0;34m(\u001b[0m\u001b[0;34m\"Drug Regimen\"\u001b[0m\u001b[0;34m)\u001b[0m\u001b[0;34m.\u001b[0m\u001b[0mmean\u001b[0m\u001b[0;34m(\u001b[0m\u001b[0;34m)\u001b[0m\u001b[0;34m[\u001b[0m\u001b[0;34m\"Tumor Volume (mm3)\"\u001b[0m\u001b[0;34m]\u001b[0m\u001b[0;34m\u001b[0m\u001b[0;34m\u001b[0m\u001b[0m\n\u001b[0m\u001b[1;32m      7\u001b[0m \u001b[0;31m# mean_groupby_tv\u001b[0m\u001b[0;34m\u001b[0m\u001b[0;34m\u001b[0m\u001b[0;34m\u001b[0m\u001b[0m\n\u001b[1;32m      8\u001b[0m \u001b[0;34m\u001b[0m\u001b[0m\n",
      "\u001b[0;31mNameError\u001b[0m: name 'cleaned_df' is not defined"
     ]
    }
   ],
   "source": [
    "# Generate a summary statistics table of mean, median, variance, standard deviation, and SEM of the tumor volume for each regimen\n",
    "# clean_data_mean = cleaned_df[\"Tumor Volume (mm3)\"].mean()\n",
    "# clean_data_mean\n",
    "\n",
    "# mean of the tumor volume for each regimen\n",
    "mean_groupby_tv = cleaned_df.groupby(\"Drug Regimen\").mean()[\"Tumor Volume (mm3)\"]\n",
    "# mean_groupby_tv\n",
    "\n",
    "# median of the tumor volume for each regimen\n",
    "median_groupby_tv = cleaned_df.groupby(\"Drug Regimen\").median()[\"Tumor Volume (mm3)\"]\n",
    "# median_groupby_tv\n",
    "\n",
    "# variance of the tumor volume for each regimen\n",
    "var_groupby_tv = cleaned_df.groupby(\"Drug Regimen\").var()[\"Tumor Volume (mm3)\"]\n",
    "# var_groupby_tv\n",
    "\n",
    "# standard deviation of the tumor volume for each regimen\n",
    "sd_groupby_tv = cleaned_df.groupby(\"Drug Regimen\").std()[\"Tumor Volume (mm3)\"]\n",
    "# sd_groupby_tv\n",
    "\n",
    "# SEM of the tumor volume for each regimen\n",
    "sem_groupby_tv = cleaned_df.groupby(\"Drug Regimen\").sem()[\"Tumor Volume (mm3)\"]\n",
    "# sem_groupby_tv\n",
    "\n"
   ]
  },
  {
   "cell_type": "code",
   "execution_count": null,
   "metadata": {},
   "outputs": [],
   "source": [
    "# Use groupby and summary statistical methods to calculate the following properties of each drug regimen: \n",
    "# mean, median, variance, standard deviation, and SEM of the tumor volume. \n",
    "# Assemble the resulting series into a single summary dataframe.\n",
    "\n",
    "\n",
    "summary_df = pd.DataFrame({\n",
    "    \"Mean Tumor Volume\": mean_groupby_tv,\n",
    "    \"Median Tumor Volume\": median_groupby_tv,\n",
    "    \"Tumor Volume Variance\": var_groupby_tv,\n",
    "    \"Tumor Volume Std. Dev.\": sd_groupby_tv,\n",
    "    \"Tumor Volume Std. Err.\": sem_groupby_tv\n",
    "})\n",
    "summary_df"
   ]
  },
  {
   "cell_type": "code",
   "execution_count": null,
   "metadata": {},
   "outputs": [],
   "source": [
    "# Generate a summary statistics table of mean, median, variance, standard deviation, and SEM of the tumor volume for each regimen\n",
    "\n",
    "# Using the aggregation method, produce the same summary statistics in a single line\n",
    "\n",
    "\n",
    "aggregate_clean_df = cleaned_df.groupby(\"Drug Regimen\").agg({\n",
    "    \"Tumor Volume (mm3)\": ['mean', 'median', 'std', 'var', 'sem']\n",
    "})\n",
    "aggregate_clean_df\n",
    "\n",
    "# aggregate-dlfkdfj = clean_df.groupby(\"drug regimen\")\n",
    "# aggregate-dlfkdfj = aggregate-dlfkdfj.agg(\"Tumor Volume (mm3)\": ['mean', 'median', 'std', 'var', 'sem'])\n"
   ]
  },
  {
   "cell_type": "markdown",
   "metadata": {},
   "source": [
    "## Bar and Pie Charts"
   ]
  },
  {
   "cell_type": "code",
   "execution_count": null,
   "metadata": {},
   "outputs": [],
   "source": [
    "# Generate a bar plot showing the total number of unique mice tested on each drug regimen using pandas.\n",
    "\n",
    "# finding the number of data for each drug regimen\n",
    "regimen_counts = cleaned_df['Drug Regimen'].value_counts()\n",
    "# regimen_counts\n",
    "\n",
    "# alternative method of finding the data for each drug regimen \n",
    "# regimen_counts = cleaned_df.groupby(\"Drug Regimen\").count()[\"Mouse ID\"]\n",
    "# regimen_counts\n",
    "\n",
    "# Generate a bar plot showing the total number of unique mice tested on each drug regimen using pandas.\n",
    "panda_plot_bar = regimen_counts.plot(kind=\"bar\", figsize=(6,4))\n",
    "\n",
    "plt.xlabel(\"Drug Regimen\")\n",
    "plt.ylabel(\"Number of Unique Mice Tested\")\n",
    "\n",
    "\n",
    "\n"
   ]
  },
  {
   "cell_type": "code",
   "execution_count": null,
   "metadata": {},
   "outputs": [],
   "source": [
    "# Generate a bar plot showing the total number of unique mice tested on each drug regimen using pyplot.\n",
    "\n",
    "\n",
    "# finding the number of data for each drug regimen\n",
    "regimen_counts = cleaned_df['Drug Regimen'].value_counts()\n",
    "# regimen_counts\n",
    "\n",
    "# Set the x_axis as length of the regimen counts. Need to import numpy as np above \n",
    "x_axis = np.arange(len(regimen_counts))\n",
    "x_axis\n",
    "\n",
    "# Setting up tick location and use Index.values attribute to return an array representing the data in the given Index object.\n",
    "# the index.values function will show the drugs regimen name, as opposed to 1,2,3,4 \n",
    "tick_locations = [value for value in x_axis]\n",
    "plt.xticks(tick_locations, regimen_counts.index.values)\n",
    "\n",
    "# creating the bar chart\n",
    "plt.bar(x_axis, regimen_counts, width = 0.5)\n",
    "\n",
    "# Rotate the x_axis name to 90 degrees \n",
    "plt.xticks(rotation=90)\n",
    "\n",
    "plt.xlabel(\"Drug Regimen\")\n",
    "plt.ylabel(\"Number of Unique Mice Tested\")\n",
    "\n"
   ]
  },
  {
   "cell_type": "code",
   "execution_count": null,
   "metadata": {},
   "outputs": [],
   "source": [
    "# Generate a pie plot showing the distribution of female versus male mice using pandas\n",
    "\n",
    "# perform gender count\n",
    "gender_counts = cleaned_df[\"Sex\"].value_counts()\n",
    "# gender_counts\n",
    "\n",
    "\n",
    "# using panda method to plot\n",
    "panda_pie_plot = gender_counts.plot(kind=\"pie\", autopct=\"%1.1f%%\")\n"
   ]
  },
  {
   "cell_type": "code",
   "execution_count": null,
   "metadata": {},
   "outputs": [],
   "source": [
    "# Generate a pie plot showing the distribution of female versus male mice using pyplot\n",
    "\n",
    "\n",
    "# finding how many genders are there\n",
    "# sex = cleaned_df[\"Sex\"].nunique()\n",
    "\n",
    "\n",
    "# perform gender count\n",
    "gender_counts = cleaned_df[\"Sex\"].value_counts()\n",
    "# gender_counts\n",
    "\n",
    "\n",
    "# create pie chart \n",
    "# adding the .index.values behind the gender_counts to hide the number \n",
    "plt.pie(gender_counts, labels=gender_counts.index.values,\n",
    "        autopct=\"%1.1f%%\")\n",
    "plt.title('Sex')\n",
    "\n",
    "\n",
    "# Altnerative fancy way \n",
    "# colors = [\"lightblue\", \"orange\"]\n",
    "# explode = (0.1,0)\n",
    "\n",
    "# plt.pie(gender_counts, explode=explode, labels=gender, colors=colors,\n",
    "#         autopct=\"%1.1f%%\", startangle=140)\n",
    "\n",
    "#----------------------------------\n",
    "# #find the number of female mice and male mice \n",
    "# gender_mice = cleaned_df.groupby(\"Sex\").nunique()[\"Mouse ID\"]\n",
    "# # gender_mice\n",
    "\n",
    "# # Converting to dataframe, \n",
    "# gender_mice_df = gender_mice.to_frame(name=\"Total Count\")\n",
    "# # gender_mice_df \n",
    "\n",
    "# #adding new columns to dataframe and convert to the percentage \n",
    "# gender_mice_df[\"Percentage of Mice\"] = (gender_mice_df[\"Total Count\"]/clean_data_number*100).map(\"{:.1f}%\".format)\n",
    "# gender_mice_df \n"
   ]
  },
  {
   "cell_type": "markdown",
   "metadata": {},
   "source": [
    "## Quartiles, Outliers and Boxplots"
   ]
  },
  {
   "cell_type": "code",
   "execution_count": null,
   "metadata": {},
   "outputs": [],
   "source": [
    "# Calculate the final tumor volume of each mouse across four of the treatment regimens:  \n",
    "# Capomulin, Ramicane, Infubinol, and Ceftamin\n",
    "\n",
    "# Start by getting the last (greatest) timepoint for each mouse\n",
    "\n",
    "# finding the max timepoint by Mouse ID\n",
    "max_timepoint_df = pd.DataFrame(cleaned_df.groupby('Mouse ID').max()['Timepoint'].sort_values())\n",
    "max_timepoint_df \n",
    "\n",
    "\n",
    "# Merge this group df with the original dataframe to get the tumor volume at the last timepoint\n",
    "# merging the max timepoint to the dataframe \n",
    "merged_df = pd.merge(cleaned_df, max_timepoint_df, on='Mouse ID')\n",
    "# merged_df.head(30)\n",
    "\n",
    "# rename it to max-timepoint to prevent confusion \n",
    "renamed_merged_df = merged_df.rename(columns={\"Timepoint_y\": \"Greatest Timepoint\", \n",
    "                                             \"Timepoint_x\": \"Timepoint\"})\n",
    "renamed_merged_df.head()\n",
    "\n"
   ]
  },
  {
   "cell_type": "code",
   "execution_count": null,
   "metadata": {},
   "outputs": [],
   "source": [
    "# we need 4 drug regimens - Capomulin, Ramicane, Infubinol, and Ceftamin\n",
    "# Put treatments into a list for for loop (and later for plot labels)\n",
    "drugs = ['Capomulin', 'Ramicane', 'Infubinol', 'Ceftamin']\n",
    "\n",
    "\n",
    "# Create empty list to fill with tumor vol data (for plotting)\n",
    "tumor_vol_data = []\n",
    "\n",
    "# Locate each drug from our list of 'drugs' in the orginal dataframe\n",
    "for drug in drugs:\n",
    "    drug_df = renamed_merged_df.loc[renamed_merged_df[\"Drug Regimen\"] == drug]\n",
    "# drug_df.head()\n",
    "\n",
    "    # only contain final timepoint for each drug regimen \n",
    "    final_timepoint_df = drug_df.loc[drug_df['Timepoint'] == drug_df['Greatest Timepoint']]\n",
    "# final_timepoint_df.head()   \n",
    "\n",
    "    tumor_values = final_timepoint_df['Tumor Volume (mm3)']\n",
    "    tumor_vol_data.append(tumor_values)\n",
    " \n",
    "    # Calculate the IQR and quantitatively determine if there are any potential outliers\n",
    "\n",
    "\n",
    "    quartiles = tumor_values.quantile([.25,.5,.75])\n",
    "    lowerq = quartiles[0.25]\n",
    "    upperq = quartiles[0.75]\n",
    "    iqr = upperq-lowerq\n",
    "#     print(f'IQR for {drug}: {iqr}')\n",
    "    \n",
    "    # Find upper and lower bounds to help identify outliers for each drug regimen\n",
    "    lower_bound = lowerq - (1.5*iqr)\n",
    "    upper_bound = upperq + (1.5*iqr)\n",
    "#     print(f'Lower Bound for {drug}: {lower_bound}')\n",
    "#     print(f'Upper Bound for {drug}: {upper_bound}')\n",
    "    \n",
    "  \n",
    "    outliers_check = (tumor_values.loc[(final_timepoint_df['Tumor Volume (mm3)'] > upper_bound) | \n",
    "                                        (final_timepoint_df['Tumor Volume (mm3)'] < lower_bound)])\n",
    "    print(f\"{drug}'s potential outliers: {outliers_check}\")\n",
    "    \n",
    "\n",
    "    "
   ]
  },
  {
   "cell_type": "code",
   "execution_count": null,
   "metadata": {},
   "outputs": [],
   "source": [
    "# Generate a box plot of the final tumor volume of each mouse across four regimens of interest\n",
    "# worked with Jessica, got below code together\n",
    "plt.boxplot(tumor_vol_data)\n",
    "plt.ylabel('Final Tumor Volume (mm3)')\n",
    "plt.xticks([1, 2, 3, 4], ['Capomulin', 'Ramicane', 'Infubinol', 'Ceftamin'])"
   ]
  },
  {
   "cell_type": "markdown",
   "metadata": {},
   "source": [
    "## Line and Scatter Plots"
   ]
  },
  {
   "cell_type": "code",
   "execution_count": null,
   "metadata": {},
   "outputs": [],
   "source": [
    "# Generate a line plot of tumor volume vs. time point for a mouse treated with Capomulin\n",
    "\n",
    "\n",
    "\n",
    "# finding out what are the mouse that treated with capomulin drug and pick one from the Mouse ID. \n",
    "mouse_w_campomulin_df = cleaned_df.loc[cleaned_df['Drug Regimen'] == 'Capomulin']\n",
    "# mouse_w_campomulin_df\n",
    "\n",
    "# pick the mouse ID with l509, now we have data of Mouse l509 and is treated by drug Capomulin\n",
    "mouse_id_w_campomulin = mouse_w_campomulin_df.loc[mouse_w_campomulin_df['Mouse ID'] == 'l509']\n",
    "# mouse_id_w_campomulin\n",
    "\n",
    "# plotting the x_axis (timepoint) and y_axis (tumor volume)\n",
    "plt.plot(mouse_id_w_campomulin['Timepoint'], mouse_id_w_campomulin['Tumor Volume (mm3)'])\n",
    "\n",
    "# Add labels and title to plot\n",
    "plt.xlabel(\"Timepoint (days)\")\n",
    "plt.ylabel(\"Tumor Volume (mm3)\")\n",
    "plt.title(\"Capomulin Treatment of Mouse l509\")\n",
    "\n",
    "plt.show()\n",
    "\n",
    "# Alternative method \n",
    "# setting x_axis to be the timepoint of the mouse ID l509\n",
    "# x_axis = mouse_id_w_campomulin['Timepoint']\n",
    "# x_axis\n",
    "\n",
    "# y_axis = mouse_id_w_campomulin['Tumor Volume (mm3)'].map(\"{:.0f}\".format)\n",
    "# y_axis\n",
    "\n",
    "# plt.plot(x_axis, y_axis)\n",
    "\n",
    "# plt.show()"
   ]
  },
  {
   "cell_type": "code",
   "execution_count": null,
   "metadata": {
    "scrolled": false
   },
   "outputs": [],
   "source": [
    "# Generate a scatter plot of average tumor volume vs. mouse weight for the Capomulin regimen\n",
    "\n",
    "# showing data of only Capomulin Regimen\n",
    "campomulin_regimen_df = cleaned_df.loc[cleaned_df['Drug Regimen'] == 'Capomulin']\n",
    "# campomulin_regimen_df\n",
    "\n",
    "\n",
    "# calculating the average tumor volume of mouse that was treated by Capomulin regimen\n",
    "avg_tumor_vol = campomulin_regimen_df.groupby(\"Mouse ID\").mean()[\"Tumor Volume (mm3)\"]\n",
    "# avg_tumor_vol\n",
    "\n",
    "# merging average tumor volumes to the dataframe by Mouse ID \n",
    "avg_tumor_vol_df = pd.merge(campomulin_regimen_df, avg_tumor_vol, on='Mouse ID')\n",
    "# avg_tumor_vol_df\n",
    "\n",
    "# renamed the columns to Average Tumor Volumes to prevent confusinon \n",
    "avg_tumor = avg_tumor_vol_df.rename(columns={\"Tumor Volume (mm3)_y\": \"Average Tumor Volume\", \n",
    "                                             \"Tumor Volume (mm3)_x\": \"Tumor Volume (mm3)\"})\n",
    "# avg_tumor.head(30)\n",
    "\n",
    "\n"
   ]
  },
  {
   "cell_type": "code",
   "execution_count": null,
   "metadata": {},
   "outputs": [],
   "source": [
    "# we will have to drop out the duplicate \n",
    "no_duplicate_df = avg_tumor[['Weight (g)', 'Average Tumor Volume']].drop_duplicates()\n",
    "no_duplicate_df.head()\n",
    "\n",
    "# the 0, 10, 18 means when whenever it reaches 10, 18, it is a different Mouse ID number. \n",
    "# We are only taking the data of the first mice to present. Not the mice from all timepoint\n"
   ]
  },
  {
   "cell_type": "code",
   "execution_count": null,
   "metadata": {},
   "outputs": [],
   "source": [
    "# Setting up the X and Y axis \n",
    "x_axis = no_duplicate_df['Weight (g)']\n",
    "y_axis = no_duplicate_df['Average Tumor Volume']\n",
    "\n",
    "# making a scatter plot\n",
    "plt.scatter(x_axis, y_axis)\n",
    "\n",
    "# giving the name to the x and y label\n",
    "plt.xlabel(\"Weight (g)\")\n",
    "plt.ylabel(\"Average Tumor Volume (mm3)\")\n",
    "\n"
   ]
  },
  {
   "cell_type": "markdown",
   "metadata": {},
   "source": [
    "## Correlation and Regression"
   ]
  },
  {
   "cell_type": "code",
   "execution_count": null,
   "metadata": {},
   "outputs": [],
   "source": [
    "# Calculate the correlation coefficient and linear regression model \n",
    "\n",
    "# for mouse weight and average tumor volume for the Capomulin regimen\n",
    "x_axis = no_duplicate_df['Weight (g)']\n",
    "y_axis = no_duplicate_df['Average Tumor Volume']\n",
    "\n",
    "# giving the name to the x and y label\n",
    "plt.xlabel(\"Weight (g)\")\n",
    "plt.ylabel(\"Average Tumor Volume (mm3)\")\n",
    "\n",
    "# ----------------------------above code are from previous scatter plot \n",
    "\n",
    "# finding the correlation \n",
    "correlation = st.pearsonr(x_axis, y_axis)\n",
    "correlation\n",
    "print(f\"The correlation between mouse weight and the average tumor volume is {round(correlation[0],2)}\")\n",
    "#the correlation coefficient between weight(g)and average tumor volume is 0.84\n",
    "\n",
    "\n",
    "# go back up and add this -> scipy.stats import linregress\n",
    "(slope, intercept, rvalue, pvalue, stderr) = linregress(x_axis, y_axis)\n",
    "regress_values = x_axis * slope + intercept\n",
    "line_eq = \"y = \" + str(round(slope,2)) + \"x + \" + str(round(intercept,2))\n",
    "plt.scatter(x_axis, y_axis)\n",
    "plt.plot(x_axis,regress_values,\"r-\")\n",
    "# the code below is to show the line equation\n",
    "# plt.annotate(line_eq,(20,40),fontsize=10,color=\"red\")\n",
    "plt.show()"
   ]
  },
  {
   "cell_type": "code",
   "execution_count": null,
   "metadata": {},
   "outputs": [],
   "source": []
  },
  {
   "cell_type": "code",
   "execution_count": null,
   "metadata": {},
   "outputs": [],
   "source": []
  },
  {
   "cell_type": "code",
   "execution_count": null,
   "metadata": {},
   "outputs": [],
   "source": []
  },
  {
   "cell_type": "code",
   "execution_count": null,
   "metadata": {},
   "outputs": [],
   "source": []
  }
 ],
 "metadata": {
  "anaconda-cloud": {},
  "kernelspec": {
   "display_name": "Python 3",
   "language": "python",
   "name": "python3"
  },
  "language_info": {
   "codemirror_mode": {
    "name": "ipython",
    "version": 3
   },
   "file_extension": ".py",
   "mimetype": "text/x-python",
   "name": "python",
   "nbconvert_exporter": "python",
   "pygments_lexer": "ipython3",
   "version": "3.8.3"
  }
 },
 "nbformat": 4,
 "nbformat_minor": 4
}
